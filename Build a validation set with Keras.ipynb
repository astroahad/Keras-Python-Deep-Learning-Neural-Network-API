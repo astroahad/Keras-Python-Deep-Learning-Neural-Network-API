{
  "nbformat": 4,
  "nbformat_minor": 0,
  "metadata": {
    "kernelspec": {
      "display_name": "Python 3",
      "language": "python",
      "name": "python3"
    },
    "language_info": {
      "codemirror_mode": {
        "name": "ipython",
        "version": 3
      },
      "file_extension": ".py",
      "mimetype": "text/x-python",
      "name": "python",
      "nbconvert_exporter": "python",
      "pygments_lexer": "ipython3",
      "version": "3.7.1"
    },
    "colab": {
      "name": "Build a validation set with Keras.ipynb",
      "provenance": []
    }
  },
  "cells": [
    {
      "cell_type": "markdown",
      "metadata": {
        "id": "Px1NEVGi9PFe"
      },
      "source": [
        "# Pre Processing Data"
      ]
    },
    {
      "cell_type": "code",
      "metadata": {
        "id": "hFPpH1fM9PFh"
      },
      "source": [
        "import numpy as np\n",
        "from random import randint\n",
        "from sklearn.preprocessing import MinMaxScaler"
      ],
      "execution_count": null,
      "outputs": []
    },
    {
      "cell_type": "code",
      "metadata": {
        "id": "WlbvRwSz9PFi"
      },
      "source": [
        "train_labels =[]\n",
        "train_samples = []"
      ],
      "execution_count": null,
      "outputs": []
    },
    {
      "cell_type": "markdown",
      "metadata": {
        "id": "s6AjQ3cU9PFi"
      },
      "source": [
        "# Example Data:\n",
        "An experimental drug was tested on indiviuals from age 13 to 100\n",
        "The trial had 2100 participants.Half were under 65 year old.Half were above 65 year old.\n",
        "95% of patients 65 or older experience side effects.\n",
        "95% of patients 65 or older experience no side effects."
      ]
    },
    {
      "cell_type": "code",
      "metadata": {
        "id": "guvwYo999PFj"
      },
      "source": [
        "for i in range (50):\n",
        "    #The 5% of younger indiviuals who did experience side effects\n",
        "    random_younger = randint(13,64)\n",
        "    train_samples.append(random_younger)\n",
        "    train_labels.append(1)\n",
        "    \n",
        "    #The 5% of older indiviuals who did not experience side effects\n",
        "    random_older = randint(65,100)\n",
        "    train_samples.append(random_older)\n",
        "    train_labels.append(0)\n",
        "    \n",
        "for i in range (1000):\n",
        "    #The 95% of younger indiviuals who did not experience side effects\n",
        "    random_younger = randint(13,64)\n",
        "    train_samples.append(random_younger)\n",
        "    train_labels.append(0)\n",
        "    \n",
        "    #The 95% of older indiviuals who did experience side effects\n",
        "    random_older = randint(65,100)\n",
        "    train_samples.append(random_older)\n",
        "    train_labels.append(1)"
      ],
      "execution_count": null,
      "outputs": []
    },
    {
      "cell_type": "code",
      "metadata": {
        "id": "68wxKY2S9PFj"
      },
      "source": [
        "# #print raw data\n",
        "# for i in train_samples:\n",
        "#     print(i)"
      ],
      "execution_count": 14,
      "outputs": []
    },
    {
      "cell_type": "code",
      "metadata": {
        "id": "cXY031no9PFk"
      },
      "source": [
        "# for i in train_labels:\n",
        "#     print(i)"
      ],
      "execution_count": 15,
      "outputs": []
    },
    {
      "cell_type": "code",
      "metadata": {
        "id": "JI_7aHbg9PFl"
      },
      "source": [
        "train_labels = np.array(train_labels)\n",
        "train_samples = np.array (train_samples)"
      ],
      "execution_count": null,
      "outputs": []
    },
    {
      "cell_type": "code",
      "metadata": {
        "id": "TObnxUB19PFl"
      },
      "source": [
        "scaler = MinMaxScaler(feature_range=(0,1))\n",
        "scaled_train_samples= scaler.fit_transform((train_samples).reshape(-1,1))"
      ],
      "execution_count": null,
      "outputs": []
    },
    {
      "cell_type": "code",
      "metadata": {
        "id": "rMHznWSO9PFl"
      },
      "source": [
        "# for i in scaled_train_samples:\n",
        "#     print (i)"
      ],
      "execution_count": null,
      "outputs": []
    },
    {
      "cell_type": "code",
      "metadata": {
        "id": "p30GDMn79PFm",
        "outputId": "f1ccf451-1072-4f46-aaa5-5cdf18f3cd06"
      },
      "source": [
        "import keras\n",
        "from keras import backend as k\n",
        "from keras.models import Sequential\n",
        "from keras.layers import Activation\n",
        "from keras.layers.core import Dense\n",
        "from keras.optimizers import Adam\n",
        "from keras.metrics import categorical_crossentropy"
      ],
      "execution_count": null,
      "outputs": [
        {
          "output_type": "stream",
          "text": [
            "Using Theano backend.\n"
          ],
          "name": "stderr"
        }
      ]
    },
    {
      "cell_type": "code",
      "metadata": {
        "id": "Pao7CtA29PFm"
      },
      "source": [
        "model = Sequential([\n",
        "    Dense(16, input_shape=(1,), activation='relu'),\n",
        "    Dense(32, activation='relu'),\n",
        "    Dense(2, activation='softmax')\n",
        "])"
      ],
      "execution_count": null,
      "outputs": []
    },
    {
      "cell_type": "code",
      "metadata": {
        "id": "-7ECcG259PFm",
        "outputId": "320f3f9a-ad2f-4fc3-e375-6a4c06c69dc0"
      },
      "source": [
        "model.summary()"
      ],
      "execution_count": null,
      "outputs": [
        {
          "output_type": "stream",
          "text": [
            "_________________________________________________________________\n",
            "Layer (type)                 Output Shape              Param #   \n",
            "=================================================================\n",
            "dense_1 (Dense)              (None, 16)                32        \n",
            "_________________________________________________________________\n",
            "dense_2 (Dense)              (None, 32)                544       \n",
            "_________________________________________________________________\n",
            "dense_3 (Dense)              (None, 2)                 66        \n",
            "=================================================================\n",
            "Total params: 642\n",
            "Trainable params: 642\n",
            "Non-trainable params: 0\n",
            "_________________________________________________________________\n"
          ],
          "name": "stdout"
        }
      ]
    },
    {
      "cell_type": "code",
      "metadata": {
        "id": "EheWszox9PFn"
      },
      "source": [
        "model.compile(Adam(lr=0.0001), loss='sparse_categorical_crossentropy', metrics =['accuracy'])"
      ],
      "execution_count": null,
      "outputs": []
    },
    {
      "cell_type": "code",
      "metadata": {
        "id": "dp-LPfAV9PFn",
        "outputId": "768d498b-af9b-4f3d-d0b8-6b86998f8e9f"
      },
      "source": [
        "model.fit(scaled_train_samples, train_labels, validation_split=0.1, batch_size=10, epochs=20, shuffle=True, verbose=2)"
      ],
      "execution_count": null,
      "outputs": [
        {
          "output_type": "stream",
          "text": [
            "Epoch 1/20\n",
            " - 1s - loss: 0.6563 - acc: 0.5419\n"
          ],
          "name": "stdout"
        },
        {
          "output_type": "stream",
          "text": [
            "C:\\Users\\THI\\Anaconda3\\lib\\site-packages\\theano\\tensor\\subtensor.py:2339: FutureWarning: Using a non-tuple sequence for multidimensional indexing is deprecated; use `arr[tuple(seq)]` instead of `arr[seq]`. In the future this will be interpreted as an array index, `arr[np.array(seq)]`, which will result either in an error or a different result.\n",
            "  out[0][inputs[2:]] = inputs[1]\n"
          ],
          "name": "stderr"
        },
        {
          "output_type": "stream",
          "text": [
            "Epoch 2/20\n",
            " - 0s - loss: 0.6269 - acc: 0.6457\n",
            "Epoch 3/20\n",
            " - 0s - loss: 0.5865 - acc: 0.7214\n",
            "Epoch 4/20\n",
            " - 0s - loss: 0.5210 - acc: 0.8248\n",
            "Epoch 5/20\n",
            " - 0s - loss: 0.4595 - acc: 0.8610\n",
            "Epoch 6/20\n",
            " - 0s - loss: 0.4040 - acc: 0.8938\n",
            "Epoch 7/20\n",
            " - 0s - loss: 0.3648 - acc: 0.9029\n",
            "Epoch 8/20\n",
            " - 0s - loss: 0.3375 - acc: 0.9167\n",
            "Epoch 9/20\n",
            " - 0s - loss: 0.3183 - acc: 0.9210\n",
            "Epoch 10/20\n",
            " - 0s - loss: 0.3046 - acc: 0.9243\n",
            "Epoch 11/20\n",
            " - 0s - loss: 0.2947 - acc: 0.9271\n",
            "Epoch 12/20\n",
            " - 0s - loss: 0.2876 - acc: 0.9310\n",
            "Epoch 13/20\n",
            " - 0s - loss: 0.2824 - acc: 0.9324\n",
            "Epoch 14/20\n",
            " - 0s - loss: 0.2782 - acc: 0.9305\n",
            "Epoch 15/20\n",
            " - 0s - loss: 0.2752 - acc: 0.9333\n",
            "Epoch 16/20\n",
            " - 0s - loss: 0.2722 - acc: 0.9305\n",
            "Epoch 17/20\n",
            " - 0s - loss: 0.2707 - acc: 0.9348\n",
            "Epoch 18/20\n",
            " - 1s - loss: 0.2692 - acc: 0.9357\n",
            "Epoch 19/20\n",
            " - 0s - loss: 0.2677 - acc: 0.9343\n",
            "Epoch 20/20\n",
            " - 0s - loss: 0.2664 - acc: 0.9343\n"
          ],
          "name": "stdout"
        },
        {
          "output_type": "execute_result",
          "data": {
            "text/plain": [
              "<keras.callbacks.callbacks.History at 0x1abc009fd68>"
            ]
          },
          "metadata": {
            "tags": []
          },
          "execution_count": 14
        }
      ]
    },
    {
      "cell_type": "code",
      "metadata": {
        "id": "RFoYszQY9PFn"
      },
      "source": [
        ""
      ],
      "execution_count": null,
      "outputs": []
    }
  ]
}